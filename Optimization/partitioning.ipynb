{
 "cells": [
  {
   "cell_type": "markdown",
   "metadata": {},
   "source": [
    "## lets see what partitioning is all about\n",
    "what is partitioning in spark the data fame is stored in a distributed way partitioning is way to keep our distributed sets in a organized manner\n"
   ]
  },
  {
   "cell_type": "code",
   "execution_count": 1,
   "metadata": {},
   "outputs": [],
   "source": [
    "from pyspark.storagelevel import StorageLevel\n",
    "from pyspark.sql.types import *\n",
    "import pyspark.sql.functions as F\n",
    "from pyspark.sql import SparkSession"
   ]
  },
  {
   "cell_type": "code",
   "execution_count": 2,
   "metadata": {},
   "outputs": [
    {
     "name": "stderr",
     "output_type": "stream",
     "text": [
      "WARNING: Using incubator modules: jdk.incubator.vector\n",
      "Using Spark's default log4j profile: org/apache/spark/log4j2-defaults.properties\n",
      "Setting default log level to \"WARN\".\n",
      "To adjust logging level use sc.setLogLevel(newLevel). For SparkR, use setLogLevel(newLevel).\n",
      "25/08/19 17:35:35 WARN NativeCodeLoader: Unable to load native-hadoop library for your platform... using builtin-java classes where applicable\n"
     ]
    }
   ],
   "source": [
    "spark = (\n",
    "    SparkSession\n",
    "    .builder\n",
    "    .config(\"spark.driver.memory\", \"10g\")\n",
    "    .master(\"local[*]\")\n",
    "    .appName(\"6_0_partitioning\")\n",
    "    .getOrCreate()\n",
    ")\n",
    "sc = spark.sparkContext\n",
    "sc.setLogLevel(\"ERROR\")"
   ]
  },
  {
   "cell_type": "code",
   "execution_count": 4,
   "metadata": {},
   "outputs": [
    {
     "name": "stdout",
     "output_type": "stream",
     "text": [
      "+-----------+-------+--------------------------+---------------+\n",
      "|activity_id|song_id|listen_date               |listen_duration|\n",
      "+-----------+-------+--------------------------+---------------+\n",
      "|1          |12     |2023-06-27 10:15:47.008867|69             |\n",
      "|2          |44     |2023-06-27 10:15:47.008867|300            |\n",
      "|3          |75     |2023-06-27 10:15:47.008867|73             |\n",
      "|4          |48     |2023-06-27 10:15:47.008867|105            |\n",
      "|5          |10     |2023-06-27 10:15:47.008867|229            |\n",
      "+-----------+-------+--------------------------+---------------+\n",
      "only showing top 5 rows\n"
     ]
    }
   ],
   "source": [
    "listening_activity_file = \"/Users/bhushanchowdary/Documents/GitHub/pyspark/Optimization/data/partitioning/raw/Spotify_Listening_Activity.csv\"\n",
    "df_listening_actv = spark.read.csv(listening_activity_file, header=True, inferSchema=True)#we are just reading in our csv file for our experiment\n",
    "df_listening_actv.show(5, False)"
   ]
  },
  {
   "cell_type": "code",
   "execution_count": 5,
   "metadata": {},
   "outputs": [],
   "source": [
    "#lets do some operations on this df_listening_actv\n",
    "df_listening_actv =(\n",
    "    df_listening_actv\n",
    "    .withColumnRenamed(\"Listen_date\",\"Listen_time\")\n",
    "    .withColumn(\"Listen_date\",F.to_date(\"listen_time\",\"yyyy-MM-dd HH:mm:ss.SSSSSS\"))\n",
    "    .withColumn(\"Listen_hour\",F.hour(\"listen_time\")\n",
    "))\n"
   ]
  },
  {
   "cell_type": "code",
   "execution_count": 6,
   "metadata": {},
   "outputs": [
    {
     "name": "stdout",
     "output_type": "stream",
     "text": [
      "+-----------+-------+--------------------+---------------+-----------+-----------+\n",
      "|activity_id|song_id|         Listen_time|listen_duration|Listen_date|Listen_hour|\n",
      "+-----------+-------+--------------------+---------------+-----------+-----------+\n",
      "|          1|     12|2023-06-27 10:15:...|             69| 2023-06-27|         10|\n",
      "|          2|     44|2023-06-27 10:15:...|            300| 2023-06-27|         10|\n",
      "|          3|     75|2023-06-27 10:15:...|             73| 2023-06-27|         10|\n",
      "|          4|     48|2023-06-27 10:15:...|            105| 2023-06-27|         10|\n",
      "|          5|     10|2023-06-27 10:15:...|            229| 2023-06-27|         10|\n",
      "+-----------+-------+--------------------+---------------+-----------+-----------+\n",
      "only showing top 5 rows\n"
     ]
    }
   ],
   "source": [
    "df_listening_actv.show(5)"
   ]
  },
  {
   "cell_type": "code",
   "execution_count": 7,
   "metadata": {},
   "outputs": [
    {
     "name": "stdout",
     "output_type": "stream",
     "text": [
      "root\n",
      " |-- activity_id: integer (nullable = true)\n",
      " |-- song_id: integer (nullable = true)\n",
      " |-- Listen_time: timestamp (nullable = true)\n",
      " |-- listen_duration: integer (nullable = true)\n",
      " |-- Listen_date: date (nullable = true)\n",
      " |-- Listen_hour: integer (nullable = true)\n",
      "\n"
     ]
    },
    {
     "data": {
      "text/plain": [
       "11779"
      ]
     },
     "execution_count": 7,
     "metadata": {},
     "output_type": "execute_result"
    }
   ],
   "source": [
    "df_listening_actv.printSchema()\n",
    "df_listening_actv.count()#counting the number of row or records"
   ]
  },
  {
   "cell_type": "code",
   "execution_count": 8,
   "metadata": {},
   "outputs": [
    {
     "name": "stdout",
     "output_type": "stream",
     "text": [
      "== Physical Plan ==\n",
      "*(1) Project [activity_id#17, song_id#18, listen_date#19 AS Listen_time#39, listen_duration#20, cast(gettimestamp(listen_date#19, yyyy-MM-dd HH:mm:ss.SSSSSS, TimestampType, try_to_date, Some(America/Chicago), true) as date) AS Listen_date#40, hour(listen_date#19, Some(America/Chicago)) AS Listen_hour#41]\n",
      "+- FileScan csv [activity_id#17,song_id#18,listen_date#19,listen_duration#20] Batched: false, DataFilters: [], Format: CSV, Location: InMemoryFileIndex(1 paths)[file:/Users/bhushanchowdary/Documents/GitHub/pyspark/Optimization/data..., PartitionFilters: [], PushedFilters: [], ReadSchema: struct<activity_id:int,song_id:int,listen_date:timestamp,listen_duration:int>\n",
      "\n",
      "\n"
     ]
    }
   ],
   "source": [
    "df_listening_actv.explain()"
   ]
  },
  {
   "cell_type": "markdown",
   "metadata": {},
   "source": [
    "partitioning by listen_date\n",
    "* lets say we want to analyse the users behaviors over time \n",
    "* if we want to find an users behavior on a particular date then spark would analyze the whole thing for findg the simple \n",
    "* so given our usecase need to analysis by date (creating partitions or folders by date )would help sopark pin the point that exact folder immediatle"
   ]
  },
  {
   "cell_type": "code",
   "execution_count": 9,
   "metadata": {},
   "outputs": [
    {
     "name": "stderr",
     "output_type": "stream",
     "text": [
      "                                                                                \r"
     ]
    }
   ],
   "source": [
    "#partitioninng that csv on listen_date\n",
    "(df_listening_actv\n",
    " .write\n",
    " .partitionBy(\"Listen_date\")   # partition data by 'listen_date'\n",
    " .mode(\"overwrite\")            # overwrite if directory already exists\n",
    " .parquet(\"/Users/bhushanchowdary/Documents/GitHub/pyspark/Optimization/data/partitioning/partitioned/listening_activity_pt\"))\n"
   ]
  },
  {
   "cell_type": "markdown",
   "metadata": {},
   "source": [
    "Lets see what is partitioning pruning"
   ]
  },
  {
   "cell_type": "code",
   "execution_count": 10,
   "metadata": {},
   "outputs": [
    {
     "name": "stdout",
     "output_type": "stream",
     "text": [
      "== Physical Plan ==\n",
      "*(1) ColumnarToRow\n",
      "+- FileScan parquet [activity_id#79,song_id#80,Listen_time#81,listen_duration#82,Listen_hour#83,Listen_date#84] Batched: true, DataFilters: [], Format: Parquet, Location: InMemoryFileIndex(1 paths)[file:/Users/bhushanchowdary/Documents/GitHub/pyspark/Optimization/data..., PartitionFilters: [isnotnull(Listen_date#84), (Listen_date#84 = 2019-01-01)], PushedFilters: [], ReadSchema: struct<activity_id:int,song_id:int,Listen_time:timestamp,listen_duration:int,Listen_hour:int>\n",
      "\n",
      "\n"
     ]
    }
   ],
   "source": [
    "df_listening_actv_pt_pruned = spark.read.parquet(\"/Users/bhushanchowdary/Documents/GitHub/pyspark/Optimization/data/partitioning/partitioned/listening_activity_pt\")\n",
    "df_listening_actv_pt_pruned.filter(\"listen_date = '2019-01-01'\").explain()"
   ]
  },
  {
   "cell_type": "markdown",
   "metadata": {},
   "source": [
    "### What problems will it solve \n",
    "1.fast search -> spark will only process the relevent partition insted of the entire data set\n",
    "2.parllelizm more partition me more core more number of partitons 128mb"
   ]
  },
  {
   "cell_type": "markdown",
   "metadata": {},
   "source": [
    "# Partitioning Examples\n",
    "1. Single/multi level partitioning\n",
    "2. Using `repartition`/`coalesce` with `partitionBy` (controlling number of files inside each partition): \n",
    "    - `parititionBy` affects how data is laid out in the storage and is going to ensure that the output directory is organized into subdirectories based on the `value` given in `partitionBy`.  \n",
    "    - Number of files in each `value` directory of `partitionBy` depends on the number supplied in the `repartition`/`coalesce`."
   ]
  },
  {
   "cell_type": "code",
   "execution_count": 11,
   "metadata": {},
   "outputs": [
    {
     "name": "stderr",
     "output_type": "stream",
     "text": [
      "                                                                                \r"
     ]
    }
   ],
   "source": [
    "(\n",
    "    df_listening_actv\n",
    "    .write\n",
    "    .mode(\"overwrite\")\n",
    "    .partitionBy(\"listen_date\", \"listen_hour\")\n",
    "    .parquet(\"/Users/bhushanchowdary/Documents/GitHub/pyspark/Optimization/data/partitioning/partitioned/listening_activity_pt_2\")\n",
    ")"
   ]
  },
  {
   "cell_type": "code",
   "execution_count": 12,
   "metadata": {},
   "outputs": [],
   "source": [
    "spark.stop()"
   ]
  },
  {
   "cell_type": "code",
   "execution_count": null,
   "metadata": {},
   "outputs": [],
   "source": []
  }
 ],
 "metadata": {
  "kernelspec": {
   "display_name": "base",
   "language": "python",
   "name": "python3"
  },
  "language_info": {
   "codemirror_mode": {
    "name": "ipython",
    "version": 3
   },
   "file_extension": ".py",
   "mimetype": "text/x-python",
   "name": "python",
   "nbconvert_exporter": "python",
   "pygments_lexer": "ipython3",
   "version": "3.12.2"
  }
 },
 "nbformat": 4,
 "nbformat_minor": 2
}
